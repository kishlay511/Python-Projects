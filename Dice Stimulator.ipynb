{
 "cells": [
  {
   "cell_type": "code",
   "execution_count": null,
   "id": "91ffebbb",
   "metadata": {},
   "outputs": [],
   "source": [
    "# Dice Stimulator"
   ]
  },
  {
   "cell_type": "code",
   "execution_count": 17,
   "id": "91ac9e7f",
   "metadata": {},
   "outputs": [
    {
     "name": "stdout",
     "output_type": "stream",
     "text": [
      "Rolling The Dices...\n",
      "The Values are :\n",
      "1\n",
      "1\n",
      "Roll the Dices Again? \n",
      " (Y or N) : yes\n",
      "Rolling The Dices...\n",
      "The Values are :\n",
      "6\n",
      "5\n",
      "Roll the Dices Again? \n",
      " (Y or N) : yes\n",
      "Rolling The Dices...\n",
      "The Values are :\n",
      "1\n",
      "1\n",
      "Roll the Dices Again? \n",
      " (Y or N) : h\n"
     ]
    }
   ],
   "source": [
    "#importing module for random number generation\n",
    "import random\n",
    "\n",
    "#range of the values of a dice\n",
    "min_val = 1\n",
    "max_val = 6\n",
    "\n",
    "#to loop the rolling through user input\n",
    "roll_again = \"yes\"\n",
    "\n",
    "#loop\n",
    "while roll_again == \"yes\" or roll_again == \"y\" or roll_again == \"Yes\" or roll_again == \"Y\":\n",
    "    print(\"Rolling The Dices...\")\n",
    "    print(\"The Values are :\")\n",
    "    \n",
    "    #generating and printing 1st random integer from 1 to 6\n",
    "    print(random.randint(min_val, max_val))\n",
    "    \n",
    "    #generating and printing 2nd random integer from 1 to 6\n",
    "    print(random.randint(min_val, max_val))\n",
    "    \n",
    "    #asking user to roll the dice again. Any input other than yes or y will terminate the loop\n",
    "    roll_again = input(\"Roll the Dices Again? \\n (Y or N) : \") "
   ]
  },
  {
   "cell_type": "code",
   "execution_count": null,
   "id": "e9688c0f",
   "metadata": {},
   "outputs": [],
   "source": []
  }
 ],
 "metadata": {
  "kernelspec": {
   "display_name": "Python 3 (ipykernel)",
   "language": "python",
   "name": "python3"
  },
  "language_info": {
   "codemirror_mode": {
    "name": "ipython",
    "version": 3
   },
   "file_extension": ".py",
   "mimetype": "text/x-python",
   "name": "python",
   "nbconvert_exporter": "python",
   "pygments_lexer": "ipython3",
   "version": "3.9.7"
  }
 },
 "nbformat": 4,
 "nbformat_minor": 5
}
