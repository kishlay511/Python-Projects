{
 "cells": [
  {
   "cell_type": "markdown",
   "id": "f9dbbe58",
   "metadata": {},
   "source": [
    "# Program to convert Fahrenheit to Celsius & vice-versa"
   ]
  },
  {
   "cell_type": "markdown",
   "id": "b799e6aa",
   "metadata": {},
   "source": [
    "### Fahrenheit to Celsius"
   ]
  },
  {
   "cell_type": "code",
   "execution_count": 1,
   "id": "d782f36d",
   "metadata": {
    "scrolled": true
   },
   "outputs": [
    {
     "name": "stdout",
     "output_type": "stream",
     "text": [
      "Enter temperature in Fahrenheit: 102\n",
      "38.89 °C\n"
     ]
    }
   ],
   "source": [
    "f = float(input('Enter temperature in Fahrenheit: '))\n",
    "c = (f - 32) * 5/9\n",
    "print (\"{:.2f}\".format(c),\"°C\")"
   ]
  },
  {
   "cell_type": "markdown",
   "id": "21835ff5",
   "metadata": {},
   "source": [
    "### Celsius to Fahrenheit "
   ]
  },
  {
   "cell_type": "code",
   "execution_count": 2,
   "id": "70c524dc",
   "metadata": {},
   "outputs": [
    {
     "name": "stdout",
     "output_type": "stream",
     "text": [
      "Enter temperature in Celsius: 37.2\n",
      "98.96 °F\n"
     ]
    }
   ],
   "source": [
    "C = float(input('Enter temperature in Celsius: '))\n",
    "F = (C * 9/5) + 32\n",
    "print (\"{:.2f}\".format(F),\"°F\")"
   ]
  }
 ],
 "metadata": {
  "kernelspec": {
   "display_name": "Python 3 (ipykernel)",
   "language": "python",
   "name": "python3"
  },
  "language_info": {
   "codemirror_mode": {
    "name": "ipython",
    "version": 3
   },
   "file_extension": ".py",
   "mimetype": "text/x-python",
   "name": "python",
   "nbconvert_exporter": "python",
   "pygments_lexer": "ipython3",
   "version": "3.9.7"
  }
 },
 "nbformat": 4,
 "nbformat_minor": 5
}
