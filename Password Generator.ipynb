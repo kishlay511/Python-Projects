{
 "cells": [
  {
   "cell_type": "markdown",
   "id": "2a1e6447",
   "metadata": {},
   "source": [
    "# Password Generator"
   ]
  },
  {
   "cell_type": "code",
   "execution_count": 2,
   "id": "9ffc8d0a",
   "metadata": {},
   "outputs": [
    {
     "name": "stdout",
     "output_type": "stream",
     "text": [
      "Enter the lenght of password: 8\n",
      "Your Password Could be fGcT1Qbq\n"
     ]
    }
   ],
   "source": [
    "import random \n",
    "import string\n",
    "User_output = int(input('Enter the lenght of password: '))\n",
    "x = string.ascii_lowercase[:26] + string.ascii_uppercase[:26] + '10234567890!@#$%^&*()?'\n",
    "y = ''.join(random.sample(x,User_output))\n",
    "print (f'Your Password Could be {y}')"
   ]
  }
 ],
 "metadata": {
  "kernelspec": {
   "display_name": "Python 3 (ipykernel)",
   "language": "python",
   "name": "python3"
  },
  "language_info": {
   "codemirror_mode": {
    "name": "ipython",
    "version": 3
   },
   "file_extension": ".py",
   "mimetype": "text/x-python",
   "name": "python",
   "nbconvert_exporter": "python",
   "pygments_lexer": "ipython3",
   "version": "3.9.7"
  }
 },
 "nbformat": 4,
 "nbformat_minor": 5
}
