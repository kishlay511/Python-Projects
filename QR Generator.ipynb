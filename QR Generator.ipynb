{
 "cells": [
  {
   "cell_type": "markdown",
   "id": "2186416c",
   "metadata": {},
   "source": [
    "# QR Generator"
   ]
  },
  {
   "cell_type": "code",
   "execution_count": 1,
   "id": "1f7fb78a",
   "metadata": {},
   "outputs": [],
   "source": [
    "import pyqrcode \n",
    "from pyqrcode import QRCode \n",
    "  \n",
    "# String which represent the QR code \n",
    "s = \"https://github.com/kishlay511\"\n",
    "  \n",
    "# Generate QR code \n",
    "url = pyqrcode.create(s) \n",
    "  \n",
    "# Create and save the png file naming \"myqr.png\" \n",
    "url.svg(\"GitHub.svg\", scale = 8) "
   ]
  },
  {
   "cell_type": "code",
   "execution_count": null,
   "id": "b2815c77",
   "metadata": {},
   "outputs": [],
   "source": []
  }
 ],
 "metadata": {
  "kernelspec": {
   "display_name": "Python 3 (ipykernel)",
   "language": "python",
   "name": "python3"
  },
  "language_info": {
   "codemirror_mode": {
    "name": "ipython",
    "version": 3
   },
   "file_extension": ".py",
   "mimetype": "text/x-python",
   "name": "python",
   "nbconvert_exporter": "python",
   "pygments_lexer": "ipython3",
   "version": "3.9.7"
  }
 },
 "nbformat": 4,
 "nbformat_minor": 5
}
