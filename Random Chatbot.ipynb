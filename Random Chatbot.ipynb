{
 "cells": [
  {
   "cell_type": "markdown",
   "id": "175e33f7",
   "metadata": {},
   "source": [
    "# Multiple Inputs with Python using While Loop\n",
    "### enter stop to end the chat"
   ]
  },
  {
   "cell_type": "code",
   "execution_count": 3,
   "id": "b3e3184b",
   "metadata": {},
   "outputs": [
    {
     "name": "stdout",
     "output_type": "stream",
     "text": [
      "Enter Text: hi\n",
      "Sara is swimming in the pool\n",
      "Enter Text: I am waiting\n",
      "You are tall\n",
      "Enter Text: no\n",
      "I am not watching TV now\n",
      "Enter Text: stop\n"
     ]
    }
   ],
   "source": [
    "import random \n",
    "while True:\n",
    "    s = ['My sister wants to eat apples', 'Sara is swimming in the ocean', 'I am not watching TV now', 'They are happy', 'He wants to buy some things', 'She is playing hockey', 'The children are playing in the park', 'Sara is swimming in the pool', 'You are working on this job for 5 years', 'John is sleeping in the bed', 'We drink water', 'She is a pretty girl', 'He is watching TV all day long', 'They are working on this job for 5 years', 'We will make a glass of lemon juice', 'She is not hungry yet', 'He is not watching TV all day long', 'I cannot go to the party tomorrow', 'I will meet you tomorrow at ten o’clock', 'Joe is a good boy', 'I will help my sister', 'You are not skiing yet', 'You are tall', 'They are sleeping on the couch', 'Sara is playing badminton', 'The man is sleeping on the couch', 'I am not sleeping yet', 'I am not working yet', 'I want to drink water', 'It is raining', 'I want to buy some things']\n",
    "    reply = input(\"Enter Text: \")\n",
    "    if reply == 'stop': break\n",
    "    print (random.choice(s))"
   ]
  }
 ],
 "metadata": {
  "kernelspec": {
   "display_name": "Python 3 (ipykernel)",
   "language": "python",
   "name": "python3"
  },
  "language_info": {
   "codemirror_mode": {
    "name": "ipython",
    "version": 3
   },
   "file_extension": ".py",
   "mimetype": "text/x-python",
   "name": "python",
   "nbconvert_exporter": "python",
   "pygments_lexer": "ipython3",
   "version": "3.9.7"
  }
 },
 "nbformat": 4,
 "nbformat_minor": 5
}
